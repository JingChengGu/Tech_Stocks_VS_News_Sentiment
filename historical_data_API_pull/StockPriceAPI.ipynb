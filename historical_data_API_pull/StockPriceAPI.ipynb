{
 "cells": [
  {
   "cell_type": "code",
   "execution_count": 1,
   "id": "ea843bed",
   "metadata": {},
   "outputs": [],
   "source": [
    "import requests\n",
    "import pandas as pd\n",
    "from alpha_vantage.timeseries import TimeSeries\n",
    "import os\n",
    "from dotenv import load_dotenv"
   ]
  },
  {
   "cell_type": "code",
   "execution_count": 2,
   "id": "0790cc51",
   "metadata": {},
   "outputs": [
    {
     "name": "stdout",
     "output_type": "stream",
     "text": [
      "False\n"
     ]
    }
   ],
   "source": [
    "print(os.path.exists('/.dockerenv'))"
   ]
  },
  {
   "cell_type": "code",
   "execution_count": 3,
   "id": "c10c9a8a",
   "metadata": {},
   "outputs": [],
   "source": [
    "load_dotenv()\n",
    "api_key = os.getenv('ALPHA_VANTAGE_API_KEY') # Alpha Vantage API Key\n",
    "if not api_key:\n",
    "    raise ValueError(\"API key is missing. Set the Alpha_Vantage_API_KEY environment variable in the .env file.\")\n",
    "\n",
    "ts = TimeSeries(key = api_key, output_format = 'pandas')\n",
    "tickers = [\"AAPL\", \"GOOG\", \"MSFT\", \"AMZN\", \"META\", \"NVDA\", \"TSLA\", \"NFLX\", \"AMD\", \"PLTR\"]"
   ]
  },
  {
   "cell_type": "code",
   "execution_count": 4,
   "id": "d57ac8e2",
   "metadata": {},
   "outputs": [],
   "source": [
    "all_data = []\n",
    "\n",
    "for ticker in tickers:\n",
    "    try:\n",
    "        data, meta_data = ts.get_daily(symbol=ticker, outputsize = 'compact')\n",
    "        data.reset_index(inplace = True)\n",
    "        data['stock'] = ticker\n",
    "        all_data.append(data)\n",
    "    except Exception as e:\n",
    "        print(f\"Error fetching data for {ticker}: {e}\")"
   ]
  },
  {
   "cell_type": "code",
   "execution_count": 5,
   "id": "bbee4a28",
   "metadata": {},
   "outputs": [
    {
     "data": {
      "text/plain": [
       "stock     0\n",
       "date      0\n",
       "open      0\n",
       "high      0\n",
       "low       0\n",
       "close     0\n",
       "volume    0\n",
       "dtype: int64"
      ]
     },
     "execution_count": 5,
     "metadata": {},
     "output_type": "execute_result"
    }
   ],
   "source": [
    "combined_df = pd.concat(all_data, ignore_index = True)\n",
    "\n",
    "combined_df.columns = ['date', 'open', 'high', 'low', 'close', 'volume', 'stock']\n",
    "combined_df = combined_df[['stock', 'date', 'open', 'high', 'low', 'close', 'volume']]\n",
    "\n",
    "combined_df.isna().sum()"
   ]
  },
  {
   "cell_type": "code",
   "execution_count": 6,
   "id": "435717ea",
   "metadata": {},
   "outputs": [],
   "source": [
    "names = [\"Apple\", \"Google\", \"Microsoft\", \"Amazon\", \"Meta\", \"Nvidia\", \"Tesla\", \"Netflix\", \"AMD\", \"Palantir\"]\n",
    "ticker_to_name = dict(zip(tickers, names))"
   ]
  },
  {
   "cell_type": "code",
   "execution_count": 7,
   "id": "cae874e4",
   "metadata": {},
   "outputs": [],
   "source": [
    "combined_df['stock'] = combined_df['stock'].replace(ticker_to_name)"
   ]
  },
  {
   "cell_type": "code",
   "execution_count": 8,
   "id": "11bc78b1",
   "metadata": {},
   "outputs": [
    {
     "data": {
      "text/html": [
       "<div>\n",
       "<style scoped>\n",
       "    .dataframe tbody tr th:only-of-type {\n",
       "        vertical-align: middle;\n",
       "    }\n",
       "\n",
       "    .dataframe tbody tr th {\n",
       "        vertical-align: top;\n",
       "    }\n",
       "\n",
       "    .dataframe thead th {\n",
       "        text-align: right;\n",
       "    }\n",
       "</style>\n",
       "<table border=\"1\" class=\"dataframe\">\n",
       "  <thead>\n",
       "    <tr style=\"text-align: right;\">\n",
       "      <th></th>\n",
       "      <th>stock</th>\n",
       "      <th>date</th>\n",
       "      <th>open</th>\n",
       "      <th>high</th>\n",
       "      <th>low</th>\n",
       "      <th>close</th>\n",
       "      <th>volume</th>\n",
       "    </tr>\n",
       "  </thead>\n",
       "  <tbody>\n",
       "    <tr>\n",
       "      <th>0</th>\n",
       "      <td>Apple</td>\n",
       "      <td>2025-05-15</td>\n",
       "      <td>210.95</td>\n",
       "      <td>212.9600</td>\n",
       "      <td>209.5400</td>\n",
       "      <td>211.45</td>\n",
       "      <td>45029473.0</td>\n",
       "    </tr>\n",
       "    <tr>\n",
       "      <th>1</th>\n",
       "      <td>Apple</td>\n",
       "      <td>2025-05-14</td>\n",
       "      <td>212.43</td>\n",
       "      <td>213.9400</td>\n",
       "      <td>210.5801</td>\n",
       "      <td>212.33</td>\n",
       "      <td>49325825.0</td>\n",
       "    </tr>\n",
       "    <tr>\n",
       "      <th>2</th>\n",
       "      <td>Apple</td>\n",
       "      <td>2025-05-13</td>\n",
       "      <td>210.43</td>\n",
       "      <td>213.4000</td>\n",
       "      <td>209.0000</td>\n",
       "      <td>212.93</td>\n",
       "      <td>51909332.0</td>\n",
       "    </tr>\n",
       "    <tr>\n",
       "      <th>3</th>\n",
       "      <td>Apple</td>\n",
       "      <td>2025-05-12</td>\n",
       "      <td>210.97</td>\n",
       "      <td>211.2679</td>\n",
       "      <td>206.7500</td>\n",
       "      <td>210.79</td>\n",
       "      <td>63775814.0</td>\n",
       "    </tr>\n",
       "    <tr>\n",
       "      <th>4</th>\n",
       "      <td>Apple</td>\n",
       "      <td>2025-05-09</td>\n",
       "      <td>199.00</td>\n",
       "      <td>200.5399</td>\n",
       "      <td>197.5350</td>\n",
       "      <td>198.53</td>\n",
       "      <td>36453923.0</td>\n",
       "    </tr>\n",
       "    <tr>\n",
       "      <th>...</th>\n",
       "      <td>...</td>\n",
       "      <td>...</td>\n",
       "      <td>...</td>\n",
       "      <td>...</td>\n",
       "      <td>...</td>\n",
       "      <td>...</td>\n",
       "      <td>...</td>\n",
       "    </tr>\n",
       "    <tr>\n",
       "      <th>995</th>\n",
       "      <td>Palantir</td>\n",
       "      <td>2024-12-26</td>\n",
       "      <td>83.16</td>\n",
       "      <td>83.4900</td>\n",
       "      <td>81.3000</td>\n",
       "      <td>82.14</td>\n",
       "      <td>60547746.0</td>\n",
       "    </tr>\n",
       "    <tr>\n",
       "      <th>996</th>\n",
       "      <td>Palantir</td>\n",
       "      <td>2024-12-24</td>\n",
       "      <td>81.09</td>\n",
       "      <td>84.7968</td>\n",
       "      <td>81.0000</td>\n",
       "      <td>82.38</td>\n",
       "      <td>64983263.0</td>\n",
       "    </tr>\n",
       "    <tr>\n",
       "      <th>997</th>\n",
       "      <td>Palantir</td>\n",
       "      <td>2024-12-23</td>\n",
       "      <td>80.65</td>\n",
       "      <td>82.0200</td>\n",
       "      <td>77.4100</td>\n",
       "      <td>80.69</td>\n",
       "      <td>93819484.0</td>\n",
       "    </tr>\n",
       "    <tr>\n",
       "      <th>998</th>\n",
       "      <td>Palantir</td>\n",
       "      <td>2024-12-20</td>\n",
       "      <td>72.64</td>\n",
       "      <td>80.6600</td>\n",
       "      <td>71.5000</td>\n",
       "      <td>80.55</td>\n",
       "      <td>281230836.0</td>\n",
       "    </tr>\n",
       "    <tr>\n",
       "      <th>999</th>\n",
       "      <td>Palantir</td>\n",
       "      <td>2024-12-19</td>\n",
       "      <td>73.99</td>\n",
       "      <td>76.5900</td>\n",
       "      <td>73.3700</td>\n",
       "      <td>74.21</td>\n",
       "      <td>99524332.0</td>\n",
       "    </tr>\n",
       "  </tbody>\n",
       "</table>\n",
       "<p>1000 rows × 7 columns</p>\n",
       "</div>"
      ],
      "text/plain": [
       "        stock       date    open      high       low   close       volume\n",
       "0       Apple 2025-05-15  210.95  212.9600  209.5400  211.45   45029473.0\n",
       "1       Apple 2025-05-14  212.43  213.9400  210.5801  212.33   49325825.0\n",
       "2       Apple 2025-05-13  210.43  213.4000  209.0000  212.93   51909332.0\n",
       "3       Apple 2025-05-12  210.97  211.2679  206.7500  210.79   63775814.0\n",
       "4       Apple 2025-05-09  199.00  200.5399  197.5350  198.53   36453923.0\n",
       "..        ...        ...     ...       ...       ...     ...          ...\n",
       "995  Palantir 2024-12-26   83.16   83.4900   81.3000   82.14   60547746.0\n",
       "996  Palantir 2024-12-24   81.09   84.7968   81.0000   82.38   64983263.0\n",
       "997  Palantir 2024-12-23   80.65   82.0200   77.4100   80.69   93819484.0\n",
       "998  Palantir 2024-12-20   72.64   80.6600   71.5000   80.55  281230836.0\n",
       "999  Palantir 2024-12-19   73.99   76.5900   73.3700   74.21   99524332.0\n",
       "\n",
       "[1000 rows x 7 columns]"
      ]
     },
     "execution_count": 8,
     "metadata": {},
     "output_type": "execute_result"
    }
   ],
   "source": [
    "combined_df"
   ]
  },
  {
   "cell_type": "code",
   "execution_count": 9,
   "id": "2c25e3ad",
   "metadata": {},
   "outputs": [
    {
     "name": "stdout",
     "output_type": "stream",
     "text": [
      "float64\n"
     ]
    }
   ],
   "source": [
    "print(combined_df['open'].dtype)"
   ]
  },
  {
   "cell_type": "code",
   "execution_count": 10,
   "id": "1b6bf387",
   "metadata": {},
   "outputs": [],
   "source": [
    "combined_df.to_csv(\"assets/stock_prices.csv\", index = False)"
   ]
  },
  {
   "cell_type": "code",
   "execution_count": null,
   "id": "70fa443f",
   "metadata": {},
   "outputs": [],
   "source": []
  },
  {
   "cell_type": "code",
   "execution_count": null,
   "id": "9ba16727",
   "metadata": {},
   "outputs": [],
   "source": []
  },
  {
   "cell_type": "code",
   "execution_count": null,
   "id": "0f6af99f",
   "metadata": {},
   "outputs": [],
   "source": []
  }
 ],
 "metadata": {
  "kernelspec": {
   "display_name": "Python 3 (ipykernel)",
   "language": "python",
   "name": "python3"
  },
  "language_info": {
   "codemirror_mode": {
    "name": "ipython",
    "version": 3
   },
   "file_extension": ".py",
   "mimetype": "text/x-python",
   "name": "python",
   "nbconvert_exporter": "python",
   "pygments_lexer": "ipython3",
   "version": "3.10.15"
  }
 },
 "nbformat": 4,
 "nbformat_minor": 5
}
