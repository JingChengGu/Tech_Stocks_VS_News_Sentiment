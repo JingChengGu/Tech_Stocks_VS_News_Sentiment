{
 "cells": [
  {
   "cell_type": "code",
   "execution_count": 3,
   "id": "ea843bed",
   "metadata": {},
   "outputs": [],
   "source": [
    "import requests\n",
    "import pandas as pd\n",
    "from alpha_vantage.timeseries import TimeSeries\n",
    "import os\n",
    "from dotenv import load_dotenv"
   ]
  },
  {
   "cell_type": "code",
   "execution_count": 4,
   "id": "c10c9a8a",
   "metadata": {},
   "outputs": [],
   "source": [
    "load_dotenv()\n",
    "api_key = os.getenv('Alpha_Vantage_API_KEY') # Alpha Vantage API Key\n",
    "if not api_key:\n",
    "    raise ValueError(\"API key is missing. Set the Alpha_Vantage_API_KEY environment variable in the .env file.\")\n",
    "\n",
    "ts = TimeSeries(key = api_key, output_format = 'pandas')\n",
    "data = ts.get_daily('AAPL')"
   ]
  },
  {
   "cell_type": "code",
   "execution_count": 5,
   "id": "bbee4a28",
   "metadata": {},
   "outputs": [
    {
     "data": {
      "text/html": [
       "<div>\n",
       "<style scoped>\n",
       "    .dataframe tbody tr th:only-of-type {\n",
       "        vertical-align: middle;\n",
       "    }\n",
       "\n",
       "    .dataframe tbody tr th {\n",
       "        vertical-align: top;\n",
       "    }\n",
       "\n",
       "    .dataframe thead th {\n",
       "        text-align: right;\n",
       "    }\n",
       "</style>\n",
       "<table border=\"1\" class=\"dataframe\">\n",
       "  <thead>\n",
       "    <tr style=\"text-align: right;\">\n",
       "      <th></th>\n",
       "      <th>1. open</th>\n",
       "      <th>2. high</th>\n",
       "      <th>3. low</th>\n",
       "      <th>4. close</th>\n",
       "      <th>5. volume</th>\n",
       "    </tr>\n",
       "    <tr>\n",
       "      <th>date</th>\n",
       "      <th></th>\n",
       "      <th></th>\n",
       "      <th></th>\n",
       "      <th></th>\n",
       "      <th></th>\n",
       "    </tr>\n",
       "  </thead>\n",
       "  <tbody>\n",
       "    <tr>\n",
       "      <th>2025-05-01</th>\n",
       "      <td>209.080</td>\n",
       "      <td>214.56</td>\n",
       "      <td>208.9000</td>\n",
       "      <td>213.32</td>\n",
       "      <td>57365675.0</td>\n",
       "    </tr>\n",
       "    <tr>\n",
       "      <th>2025-04-30</th>\n",
       "      <td>209.300</td>\n",
       "      <td>213.58</td>\n",
       "      <td>206.6705</td>\n",
       "      <td>212.50</td>\n",
       "      <td>52286454.0</td>\n",
       "    </tr>\n",
       "    <tr>\n",
       "      <th>2025-04-29</th>\n",
       "      <td>208.693</td>\n",
       "      <td>212.24</td>\n",
       "      <td>208.3700</td>\n",
       "      <td>211.21</td>\n",
       "      <td>36827633.0</td>\n",
       "    </tr>\n",
       "    <tr>\n",
       "      <th>2025-04-28</th>\n",
       "      <td>210.000</td>\n",
       "      <td>211.50</td>\n",
       "      <td>207.4600</td>\n",
       "      <td>210.14</td>\n",
       "      <td>38743074.0</td>\n",
       "    </tr>\n",
       "    <tr>\n",
       "      <th>2025-04-25</th>\n",
       "      <td>206.365</td>\n",
       "      <td>209.75</td>\n",
       "      <td>206.2000</td>\n",
       "      <td>209.28</td>\n",
       "      <td>38222258.0</td>\n",
       "    </tr>\n",
       "  </tbody>\n",
       "</table>\n",
       "</div>"
      ],
      "text/plain": [
       "            1. open  2. high    3. low  4. close   5. volume\n",
       "date                                                        \n",
       "2025-05-01  209.080   214.56  208.9000    213.32  57365675.0\n",
       "2025-04-30  209.300   213.58  206.6705    212.50  52286454.0\n",
       "2025-04-29  208.693   212.24  208.3700    211.21  36827633.0\n",
       "2025-04-28  210.000   211.50  207.4600    210.14  38743074.0\n",
       "2025-04-25  206.365   209.75  206.2000    209.28  38222258.0"
      ]
     },
     "execution_count": 5,
     "metadata": {},
     "output_type": "execute_result"
    }
   ],
   "source": [
    "OHLCV = data[0]\n",
    "OHLCV.head()"
   ]
  },
  {
   "cell_type": "code",
   "execution_count": null,
   "id": "93c9e902",
   "metadata": {},
   "outputs": [],
   "source": []
  },
  {
   "cell_type": "code",
   "execution_count": null,
   "id": "4830a3c7",
   "metadata": {},
   "outputs": [],
   "source": []
  }
 ],
 "metadata": {
  "kernelspec": {
   "display_name": "base",
   "language": "python",
   "name": "python3"
  },
  "language_info": {
   "codemirror_mode": {
    "name": "ipython",
    "version": 3
   },
   "file_extension": ".py",
   "mimetype": "text/x-python",
   "name": "python",
   "nbconvert_exporter": "python",
   "pygments_lexer": "ipython3",
   "version": "3.12.7"
  }
 },
 "nbformat": 4,
 "nbformat_minor": 5
}
