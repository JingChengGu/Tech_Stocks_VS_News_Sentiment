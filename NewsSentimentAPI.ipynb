{
 "cells": [
  {
   "cell_type": "code",
   "execution_count": 2,
   "id": "ed2e7c72",
   "metadata": {},
   "outputs": [],
   "source": [
    "import requests\n",
    "import pandas as pd\n",
    "from datetime import datetime, timedelta\n",
    "from textblob import TextBlob\n",
    "import urllib.parse\n",
    "import time\n",
    "import os\n",
    "from dotenv import load_dotenv"
   ]
  },
  {
   "cell_type": "code",
   "execution_count": 3,
   "id": "2b68d417",
   "metadata": {},
   "outputs": [],
   "source": [
    "load_dotenv()\n",
    "api_key = os.getenv('News_API_KEY')\n",
    "if not api_key:\n",
    "    raise ValueError(\"API key is missing. Set the News_API_KEY environment variable in the .env file.\")\n",
    "tickers = [\"Apple\", \"Google\", \"Microsoft\", \"Amazon\", \"Meta\", \"Nvidia\", \"Tesla\", \"Netflix\", \"AMD\", \"Palanir\"]\n",
    "base_url = f\"https://newsapi.org/v2/everything?\"\n",
    "results = []"
   ]
  },
  {
   "cell_type": "code",
   "execution_count": 4,
   "id": "ee70f0e1",
   "metadata": {},
   "outputs": [
    {
     "name": "stderr",
     "output_type": "stream",
     "text": [
      "/var/folders/54/hwsm49bs033bpdy18h8fnp2h0000gn/T/ipykernel_75523/4215040265.py:3: DeprecationWarning: datetime.datetime.utcnow() is deprecated and scheduled for removal in a future version. Use timezone-aware objects to represent datetimes in UTC: datetime.datetime.now(datetime.UTC).\n",
      "  date = datetime.utcnow() - timedelta(days = i)\n"
     ]
    },
    {
     "name": "stdout",
     "output_type": "stream",
     "text": [
      "Pulling news for Apple on 2025-05-02\n",
      "Error fetching data for Apple on 2025-05-02: 429 Client Error:  for url: https://newsapi.org/v2/everything?q=%22Apple%22+AND+stock&searchIn=title%2Cdescription&from=2025-05-02&to=2025-05-02&language=en&sortBy=relevancy&pageSize=10&apiKey=ed97359fd5f145c393ca0e0f2683a396\n",
      "Pulling news for Google on 2025-05-02\n",
      "Error fetching data for Google on 2025-05-02: 429 Client Error:  for url: https://newsapi.org/v2/everything?q=%22Google%22+AND+stock&searchIn=title%2Cdescription&from=2025-05-02&to=2025-05-02&language=en&sortBy=relevancy&pageSize=10&apiKey=ed97359fd5f145c393ca0e0f2683a396\n",
      "Pulling news for Microsoft on 2025-05-02\n",
      "Error fetching data for Microsoft on 2025-05-02: 429 Client Error:  for url: https://newsapi.org/v2/everything?q=%22Microsoft%22+AND+stock&searchIn=title%2Cdescription&from=2025-05-02&to=2025-05-02&language=en&sortBy=relevancy&pageSize=10&apiKey=ed97359fd5f145c393ca0e0f2683a396\n",
      "Pulling news for Amazon on 2025-05-02\n",
      "Error fetching data for Amazon on 2025-05-02: 429 Client Error:  for url: https://newsapi.org/v2/everything?q=%22Amazon%22+AND+stock&searchIn=title%2Cdescription&from=2025-05-02&to=2025-05-02&language=en&sortBy=relevancy&pageSize=10&apiKey=ed97359fd5f145c393ca0e0f2683a396\n",
      "Pulling news for Meta on 2025-05-02\n",
      "Error fetching data for Meta on 2025-05-02: 429 Client Error:  for url: https://newsapi.org/v2/everything?q=%22Meta%22+AND+stock&searchIn=title%2Cdescription&from=2025-05-02&to=2025-05-02&language=en&sortBy=relevancy&pageSize=10&apiKey=ed97359fd5f145c393ca0e0f2683a396\n",
      "Pulling news for Nvidia on 2025-05-02\n",
      "Error fetching data for Nvidia on 2025-05-02: 429 Client Error:  for url: https://newsapi.org/v2/everything?q=%22Nvidia%22+AND+stock&searchIn=title%2Cdescription&from=2025-05-02&to=2025-05-02&language=en&sortBy=relevancy&pageSize=10&apiKey=ed97359fd5f145c393ca0e0f2683a396\n",
      "Pulling news for Tesla on 2025-05-02\n",
      "Error fetching data for Tesla on 2025-05-02: 429 Client Error:  for url: https://newsapi.org/v2/everything?q=%22Tesla%22+AND+stock&searchIn=title%2Cdescription&from=2025-05-02&to=2025-05-02&language=en&sortBy=relevancy&pageSize=10&apiKey=ed97359fd5f145c393ca0e0f2683a396\n",
      "Pulling news for Netflix on 2025-05-02\n",
      "Error fetching data for Netflix on 2025-05-02: 429 Client Error:  for url: https://newsapi.org/v2/everything?q=%22Netflix%22+AND+stock&searchIn=title%2Cdescription&from=2025-05-02&to=2025-05-02&language=en&sortBy=relevancy&pageSize=10&apiKey=ed97359fd5f145c393ca0e0f2683a396\n",
      "Pulling news for AMD on 2025-05-02\n",
      "Error fetching data for AMD on 2025-05-02: 429 Client Error:  for url: https://newsapi.org/v2/everything?q=%22AMD%22+AND+stock&searchIn=title%2Cdescription&from=2025-05-02&to=2025-05-02&language=en&sortBy=relevancy&pageSize=10&apiKey=ed97359fd5f145c393ca0e0f2683a396\n",
      "Pulling news for Palanir on 2025-05-02\n",
      "Error fetching data for Palanir on 2025-05-02: 429 Client Error:  for url: https://newsapi.org/v2/everything?q=%22Palanir%22+AND+stock&searchIn=title%2Cdescription&from=2025-05-02&to=2025-05-02&language=en&sortBy=relevancy&pageSize=10&apiKey=ed97359fd5f145c393ca0e0f2683a396\n"
     ]
    }
   ],
   "source": [
    "for i in range(1):\n",
    "    \n",
    "    date = datetime.utcnow() - timedelta(days = i)\n",
    "    from_date = to_date = date.strftime(\"%Y-%m-%d\")\n",
    "\n",
    "    for ticker in tickers:\n",
    "        print(f\"Pulling news for {ticker} on {from_date}\")\n",
    "\n",
    "        params = {\n",
    "            \"q\" : f'\"{ticker}\" AND stock',\n",
    "            \"searchIn\": \"title,description\",\n",
    "            \"from\": from_date,\n",
    "            \"to\": to_date,\n",
    "            \"language\": \"en\",\n",
    "            \"sortBy\": \"relevancy\",\n",
    "            \"pageSize\": 10,\n",
    "            \"apiKey\": api_key\n",
    "        }\n",
    "        try:\n",
    "            response = requests.get(base_url, params = params)\n",
    "            response.raise_for_status()\n",
    "            articles = response.json().get('articles', [])\n",
    "        except Exception as e:\n",
    "            print(f\"Error fetching data for {ticker} on {from_date}: {e}\")\n",
    "            continue\n",
    "        \n",
    "        sentiments = []\n",
    "        for article in articles:\n",
    "            title = article.get('title', '')\n",
    "            description = article.get('description', '')\n",
    "            text = f\"{title} {description}\".strip()\n",
    "            if text:\n",
    "                score = TextBlob(text).sentiment.polarity\n",
    "                sentiments.append(score)\n",
    "\n",
    "        avg_sentiment = sum(sentiments) / len(sentiments) if sentiments else None\n",
    "        \n",
    "        results.append({\n",
    "            \"ticker\": ticker,\n",
    "            \"date\": from_date,\n",
    "            \"article_count\": len(sentiments),\n",
    "            \"avg_sentiment\":avg_sentiment\n",
    "        })\n",
    "        time.sleep(1.1)"
   ]
  },
  {
   "cell_type": "code",
   "execution_count": 5,
   "id": "fbe47d39",
   "metadata": {},
   "outputs": [
    {
     "data": {
      "text/html": [
       "<div>\n",
       "<style scoped>\n",
       "    .dataframe tbody tr th:only-of-type {\n",
       "        vertical-align: middle;\n",
       "    }\n",
       "\n",
       "    .dataframe tbody tr th {\n",
       "        vertical-align: top;\n",
       "    }\n",
       "\n",
       "    .dataframe thead th {\n",
       "        text-align: right;\n",
       "    }\n",
       "</style>\n",
       "<table border=\"1\" class=\"dataframe\">\n",
       "  <thead>\n",
       "    <tr style=\"text-align: right;\">\n",
       "      <th></th>\n",
       "    </tr>\n",
       "  </thead>\n",
       "  <tbody>\n",
       "  </tbody>\n",
       "</table>\n",
       "</div>"
      ],
      "text/plain": [
       "Empty DataFrame\n",
       "Columns: []\n",
       "Index: []"
      ]
     },
     "execution_count": 5,
     "metadata": {},
     "output_type": "execute_result"
    }
   ],
   "source": [
    "df = pd.DataFrame(results)\n",
    "df.head()"
   ]
  },
  {
   "cell_type": "code",
   "execution_count": null,
   "id": "3988fbbc",
   "metadata": {},
   "outputs": [],
   "source": []
  },
  {
   "cell_type": "code",
   "execution_count": null,
   "id": "a8be82f2",
   "metadata": {},
   "outputs": [],
   "source": []
  }
 ],
 "metadata": {
  "kernelspec": {
   "display_name": "base",
   "language": "python",
   "name": "python3"
  },
  "language_info": {
   "codemirror_mode": {
    "name": "ipython",
    "version": 3
   },
   "file_extension": ".py",
   "mimetype": "text/x-python",
   "name": "python",
   "nbconvert_exporter": "python",
   "pygments_lexer": "ipython3",
   "version": "3.12.7"
  }
 },
 "nbformat": 4,
 "nbformat_minor": 5
}
