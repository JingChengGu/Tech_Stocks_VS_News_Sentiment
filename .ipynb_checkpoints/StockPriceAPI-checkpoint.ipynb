{
 "cells": [
  {
   "cell_type": "code",
   "execution_count": 8,
   "id": "ea843bed",
   "metadata": {},
   "outputs": [],
   "source": [
    "import requests\n",
    "import pandas as pd\n",
    "from alpha_vantage.timeseries import TimeSeries\n",
    "import os\n",
    "from dotenv import load_dotenv"
   ]
  },
  {
   "cell_type": "code",
   "execution_count": 9,
   "id": "0790cc51",
   "metadata": {},
   "outputs": [
    {
     "name": "stdout",
     "output_type": "stream",
     "text": [
      "False\n"
     ]
    }
   ],
   "source": [
    "print(os.path.exists('/.dockerenv'))"
   ]
  },
  {
   "cell_type": "code",
   "execution_count": 10,
   "id": "c10c9a8a",
   "metadata": {},
   "outputs": [],
   "source": [
    "load_dotenv()\n",
    "api_key = os.getenv('ALPHA_VANTAGE_API_KEY') # Alpha Vantage API Key\n",
    "if not api_key:\n",
    "    raise ValueError(\"API key is missing. Set the Alpha_Vantage_API_KEY environment variable in the .env file.\")\n",
    "\n",
    "ts = TimeSeries(key = api_key, output_format = 'pandas')\n",
    "tickers = [\"AAPL\", \"GOOG\", \"MSFT\", \"AMZN\", \"META\", \"NVDA\", \"TSLA\", \"NFLX\", \"AMD\", \"PLTR\"]"
   ]
  },
  {
   "cell_type": "code",
   "execution_count": 11,
   "id": "d57ac8e2",
   "metadata": {},
   "outputs": [],
   "source": [
    "all_data = []\n",
    "\n",
    "for ticker in tickers:\n",
    "    try:\n",
    "        data, meta_data = ts.get_daily(symbol=ticker, outputsize = 'compact')\n",
    "        data.reset_index(inplace = True)\n",
    "        data['stock'] = ticker\n",
    "        all_data.append(data)\n",
    "    except Exception as e:\n",
    "        print(f\"Error fetching data for {ticker}: {e}\")"
   ]
  },
  {
   "cell_type": "code",
   "execution_count": 12,
   "id": "bbee4a28",
   "metadata": {},
   "outputs": [
    {
     "data": {
      "text/plain": [
       "stock     0\n",
       "date      0\n",
       "open      0\n",
       "high      0\n",
       "low       0\n",
       "close     0\n",
       "volume    0\n",
       "dtype: int64"
      ]
     },
     "execution_count": 12,
     "metadata": {},
     "output_type": "execute_result"
    }
   ],
   "source": [
    "combined_df = pd.concat(all_data, ignore_index = True)\n",
    "\n",
    "combined_df.columns = ['date', 'open', 'high', 'low', 'close', 'volume', 'stock']\n",
    "combined_df = combined_df[['stock', 'date', 'open', 'high', 'low', 'close', 'volume']]\n",
    "\n",
    "combined_df.isna().sum()"
   ]
  },
  {
   "cell_type": "code",
   "execution_count": 13,
   "id": "435717ea",
   "metadata": {},
   "outputs": [],
   "source": [
    "names = [\"Apple\", \"Google\", \"Microsoft\", \"Amazon\", \"Meta\", \"Nvidia\", \"Tesla\", \"Netflix\", \"AMD\", \"Palantir\"]\n",
    "ticker_to_name = dict(zip(tickers, names))"
   ]
  },
  {
   "cell_type": "code",
   "execution_count": 14,
   "id": "cae874e4",
   "metadata": {},
   "outputs": [],
   "source": [
    "combined_df['stock'] = combined_df['stock'].replace(ticker_to_name)"
   ]
  },
  {
   "cell_type": "code",
   "execution_count": 15,
   "id": "11bc78b1",
   "metadata": {},
   "outputs": [
    {
     "data": {
      "text/html": [
       "<div>\n",
       "<style scoped>\n",
       "    .dataframe tbody tr th:only-of-type {\n",
       "        vertical-align: middle;\n",
       "    }\n",
       "\n",
       "    .dataframe tbody tr th {\n",
       "        vertical-align: top;\n",
       "    }\n",
       "\n",
       "    .dataframe thead th {\n",
       "        text-align: right;\n",
       "    }\n",
       "</style>\n",
       "<table border=\"1\" class=\"dataframe\">\n",
       "  <thead>\n",
       "    <tr style=\"text-align: right;\">\n",
       "      <th></th>\n",
       "      <th>stock</th>\n",
       "      <th>date</th>\n",
       "      <th>open</th>\n",
       "      <th>high</th>\n",
       "      <th>low</th>\n",
       "      <th>close</th>\n",
       "      <th>volume</th>\n",
       "    </tr>\n",
       "  </thead>\n",
       "  <tbody>\n",
       "    <tr>\n",
       "      <th>0</th>\n",
       "      <td>Apple</td>\n",
       "      <td>2025-05-09</td>\n",
       "      <td>199.00</td>\n",
       "      <td>200.5399</td>\n",
       "      <td>197.5350</td>\n",
       "      <td>198.53</td>\n",
       "      <td>36338747.0</td>\n",
       "    </tr>\n",
       "    <tr>\n",
       "      <th>1</th>\n",
       "      <td>Apple</td>\n",
       "      <td>2025-05-08</td>\n",
       "      <td>197.72</td>\n",
       "      <td>200.0500</td>\n",
       "      <td>194.6796</td>\n",
       "      <td>197.49</td>\n",
       "      <td>50478872.0</td>\n",
       "    </tr>\n",
       "    <tr>\n",
       "      <th>2</th>\n",
       "      <td>Apple</td>\n",
       "      <td>2025-05-07</td>\n",
       "      <td>199.17</td>\n",
       "      <td>199.4400</td>\n",
       "      <td>193.2500</td>\n",
       "      <td>196.25</td>\n",
       "      <td>68616943.0</td>\n",
       "    </tr>\n",
       "    <tr>\n",
       "      <th>3</th>\n",
       "      <td>Apple</td>\n",
       "      <td>2025-05-06</td>\n",
       "      <td>198.21</td>\n",
       "      <td>200.6500</td>\n",
       "      <td>197.0200</td>\n",
       "      <td>198.51</td>\n",
       "      <td>51216482.0</td>\n",
       "    </tr>\n",
       "    <tr>\n",
       "      <th>4</th>\n",
       "      <td>Apple</td>\n",
       "      <td>2025-05-05</td>\n",
       "      <td>203.10</td>\n",
       "      <td>204.1000</td>\n",
       "      <td>198.2100</td>\n",
       "      <td>198.89</td>\n",
       "      <td>69018452.0</td>\n",
       "    </tr>\n",
       "    <tr>\n",
       "      <th>...</th>\n",
       "      <td>...</td>\n",
       "      <td>...</td>\n",
       "      <td>...</td>\n",
       "      <td>...</td>\n",
       "      <td>...</td>\n",
       "      <td>...</td>\n",
       "      <td>...</td>\n",
       "    </tr>\n",
       "    <tr>\n",
       "      <th>995</th>\n",
       "      <td>Palantir</td>\n",
       "      <td>2024-12-19</td>\n",
       "      <td>73.99</td>\n",
       "      <td>76.5900</td>\n",
       "      <td>73.3700</td>\n",
       "      <td>74.21</td>\n",
       "      <td>99524332.0</td>\n",
       "    </tr>\n",
       "    <tr>\n",
       "      <th>996</th>\n",
       "      <td>Palantir</td>\n",
       "      <td>2024-12-18</td>\n",
       "      <td>74.30</td>\n",
       "      <td>77.6000</td>\n",
       "      <td>70.2700</td>\n",
       "      <td>71.51</td>\n",
       "      <td>109643381.0</td>\n",
       "    </tr>\n",
       "    <tr>\n",
       "      <th>997</th>\n",
       "      <td>Palantir</td>\n",
       "      <td>2024-12-17</td>\n",
       "      <td>73.28</td>\n",
       "      <td>75.3200</td>\n",
       "      <td>71.7000</td>\n",
       "      <td>74.39</td>\n",
       "      <td>75469386.0</td>\n",
       "    </tr>\n",
       "    <tr>\n",
       "      <th>998</th>\n",
       "      <td>Palantir</td>\n",
       "      <td>2024-12-16</td>\n",
       "      <td>75.06</td>\n",
       "      <td>77.8200</td>\n",
       "      <td>71.1600</td>\n",
       "      <td>75.75</td>\n",
       "      <td>126099615.0</td>\n",
       "    </tr>\n",
       "    <tr>\n",
       "      <th>999</th>\n",
       "      <td>Palantir</td>\n",
       "      <td>2024-12-13</td>\n",
       "      <td>73.49</td>\n",
       "      <td>76.1000</td>\n",
       "      <td>72.4500</td>\n",
       "      <td>76.07</td>\n",
       "      <td>76172785.0</td>\n",
       "    </tr>\n",
       "  </tbody>\n",
       "</table>\n",
       "<p>1000 rows × 7 columns</p>\n",
       "</div>"
      ],
      "text/plain": [
       "        stock       date    open      high       low   close       volume\n",
       "0       Apple 2025-05-09  199.00  200.5399  197.5350  198.53   36338747.0\n",
       "1       Apple 2025-05-08  197.72  200.0500  194.6796  197.49   50478872.0\n",
       "2       Apple 2025-05-07  199.17  199.4400  193.2500  196.25   68616943.0\n",
       "3       Apple 2025-05-06  198.21  200.6500  197.0200  198.51   51216482.0\n",
       "4       Apple 2025-05-05  203.10  204.1000  198.2100  198.89   69018452.0\n",
       "..        ...        ...     ...       ...       ...     ...          ...\n",
       "995  Palantir 2024-12-19   73.99   76.5900   73.3700   74.21   99524332.0\n",
       "996  Palantir 2024-12-18   74.30   77.6000   70.2700   71.51  109643381.0\n",
       "997  Palantir 2024-12-17   73.28   75.3200   71.7000   74.39   75469386.0\n",
       "998  Palantir 2024-12-16   75.06   77.8200   71.1600   75.75  126099615.0\n",
       "999  Palantir 2024-12-13   73.49   76.1000   72.4500   76.07   76172785.0\n",
       "\n",
       "[1000 rows x 7 columns]"
      ]
     },
     "execution_count": 15,
     "metadata": {},
     "output_type": "execute_result"
    }
   ],
   "source": [
    "combined_df"
   ]
  },
  {
   "cell_type": "code",
   "execution_count": 16,
   "id": "2c25e3ad",
   "metadata": {},
   "outputs": [
    {
     "name": "stdout",
     "output_type": "stream",
     "text": [
      "float64\n"
     ]
    }
   ],
   "source": [
    "print(combined_df['open'].dtype)"
   ]
  },
  {
   "cell_type": "code",
   "execution_count": 17,
   "id": "1b6bf387",
   "metadata": {},
   "outputs": [],
   "source": [
    "combined_df.to_csv(\"assets/stock_prices.csv\", index = False)"
   ]
  },
  {
   "cell_type": "code",
   "execution_count": null,
   "id": "70fa443f",
   "metadata": {},
   "outputs": [],
   "source": []
  },
  {
   "cell_type": "code",
   "execution_count": null,
   "id": "9ba16727",
   "metadata": {},
   "outputs": [],
   "source": []
  },
  {
   "cell_type": "code",
   "execution_count": null,
   "id": "0f6af99f",
   "metadata": {},
   "outputs": [],
   "source": []
  }
 ],
 "metadata": {
  "kernelspec": {
   "display_name": "base",
   "language": "python",
   "name": "python3"
  },
  "language_info": {
   "codemirror_mode": {
    "name": "ipython",
    "version": 3
   },
   "file_extension": ".py",
   "mimetype": "text/x-python",
   "name": "python",
   "nbconvert_exporter": "python",
   "pygments_lexer": "ipython3",
   "version": "3.12.7"
  }
 },
 "nbformat": 4,
 "nbformat_minor": 5
}
